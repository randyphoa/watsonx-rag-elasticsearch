{
 "cells": [
  {
   "cell_type": "code",
   "execution_count": null,
   "metadata": {},
   "outputs": [],
   "source": [
    "! pip install elasticsearch ibm-watsonx-ai llama-index"
   ]
  },
  {
   "cell_type": "code",
   "execution_count": 10,
   "metadata": {},
   "outputs": [
    {
     "data": {
      "text/plain": [
       "True"
      ]
     },
     "execution_count": 10,
     "metadata": {},
     "output_type": "execute_result"
    }
   ],
   "source": [
    "import os\n",
    "from dotenv import load_dotenv\n",
    "from ibm_watsonx_ai import APIClient\n",
    "from elasticsearch import Elasticsearch, helpers\n",
    "from ibm_watsonx_ai.foundation_models import ModelInference\n",
    "from ibm_watsonx_ai.metanames import GenTextParamsMetaNames as GenParams\n",
    "from llama_index.core.node_parser import SentenceSplitter\n",
    "from ibm_watsonx_ai.foundation_models.prompts import (PromptTemplate, PromptTemplateManager)\n",
    "\n",
    "load_dotenv()"
   ]
  },
  {
   "cell_type": "markdown",
   "metadata": {},
   "source": [
    "# Edit variables as required"
   ]
  },
  {
   "cell_type": "code",
   "execution_count": 11,
   "metadata": {},
   "outputs": [
    {
     "data": {
      "text/plain": [
       "ObjectApiResponse({'name': 'm-2.b282a6e7-a2c0-4f71-b760-149c6170bf9f.018bbe2e6bd84ddab8bedc84b9842f82.6131b73286f34215871dfad7254b4f7d.databases.appdomain.cloud', 'cluster_name': 'b282a6e7-a2c0-4f71-b760-149c6170bf9f', 'cluster_uuid': '13ZhY08cSt6K_hdIs3T4CQ', 'version': {'number': '8.12.1', 'build_flavor': 'default', 'build_type': 'tar', 'build_hash': '6185ba65d27469afabc9bc951cded6c17c21e3f3', 'build_date': '2024-02-01T13:07:13.727175297Z', 'build_snapshot': False, 'lucene_version': '9.9.2', 'minimum_wire_compatibility_version': '7.17.0', 'minimum_index_compatibility_version': '7.0.0'}, 'tagline': 'You Know, for Search'})"
      ]
     },
     "execution_count": 11,
     "metadata": {},
     "output_type": "execute_result"
    }
   ],
   "source": [
    "INDEX_NAME = \"randy_v1\"\n",
    "SPACE_ID = \"d36dea60-d955-45a1-9ebc-73095f296806\"\n",
    "PIPELINE_ID = \"ingest-pipeline-randy\"\n",
    "\n",
    "WML_CREDENTIALS = {\"apikey\": os.getenv(\"IBM_API_KEY\"), \"url\": \"https://us-south.ml.cloud.ibm.com\"}\n",
    "ES_CREDENTIALS = (os.getenv(\"ES_USERNAME\"), os.getenv(\"ES_PASSWORD\"))\n",
    "\n",
    "model_name = \"intfloat__multilingual-e5-base\"\n",
    "\n",
    "es_url = \"https://b282a6e7-a2c0-4f71-b760-149c6170bf9f.6131b73286f34215871dfad7254b4f7d.databases.appdomain.cloud:31360\"\n",
    "es = Elasticsearch(hosts=es_url, basic_auth=ES_CREDENTIALS, verify_certs=False, ssl_show_warn=False, request_timeout=600)\n",
    "\n",
    "llm_model = ModelInference(\n",
    "    model_id=\"meta-llama/llama-3-1-70b-instruct\",\n",
    "    credentials=WML_CREDENTIALS,\n",
    "    params={ GenParams.DECODING_METHOD: \"greedy\", GenParams.MAX_NEW_TOKENS: 4096 }, space_id=SPACE_ID\n",
    ")\n",
    "\n",
    "splitter = SentenceSplitter(chunk_size=450, chunk_overlap=50)\n",
    "\n",
    "prompt_mgr = PromptTemplateManager(credentials=WML_CREDENTIALS, space_id=SPACE_ID)\n",
    "\n",
    "wml_client = APIClient(credentials=WML_CREDENTIALS)\n",
    "wml_client.set.default_space(SPACE_ID)\n",
    "\n",
    "es.info()"
   ]
  },
  {
   "cell_type": "markdown",
   "metadata": {},
   "source": [
    "# Read and chunk data"
   ]
  },
  {
   "cell_type": "code",
   "execution_count": 12,
   "metadata": {},
   "outputs": [
    {
     "data": {
      "text/plain": [
       "48"
      ]
     },
     "execution_count": 12,
     "metadata": {},
     "output_type": "execute_result"
    }
   ],
   "source": [
    "with open(\"../data/txt/wiki_movie_plots.txt\") as f:\n",
    "    data = f.read()\n",
    "    \n",
    "chunks = splitter.split_text(data)\n",
    "\n",
    "len(chunks)"
   ]
  },
  {
   "cell_type": "markdown",
   "metadata": {},
   "source": [
    "# Create Elasticsearch pipeline"
   ]
  },
  {
   "cell_type": "code",
   "execution_count": 4,
   "metadata": {},
   "outputs": [
    {
     "data": {
      "text/plain": [
       "ObjectApiResponse({'acknowledged': True, 'shards_acknowledged': True, 'index': 'randy_v1'})"
      ]
     },
     "execution_count": 4,
     "metadata": {},
     "output_type": "execute_result"
    }
   ],
   "source": [
    "es.indices.delete(index=INDEX_NAME, ignore_unavailable=True)\n",
    "\n",
    "pipeline_body = {\n",
    "    \"processors\": [\n",
    "        {\n",
    "            \"inference\": {\n",
    "                \"model_id\": model_name,\n",
    "                \"input_output\": { \"input_field\": \"text\", \"output_field\": \"text_embedding\" },\n",
    "            }\n",
    "        }\n",
    "    ],\n",
    "}\n",
    "\n",
    "# es.ingest.delete_pipeline(id=pipeline_id)\n",
    "\n",
    "es.ingest.put_pipeline(id=PIPELINE_ID, body=pipeline_body)\n",
    "\n",
    "es.indices.create(\n",
    "    index=INDEX_NAME,\n",
    "    settings={\"index\": {\"default_pipeline\": PIPELINE_ID}},\n",
    "    mappings={\n",
    "        \"properties\": {\n",
    "            \"text\": {\"type\": \"text\"},\n",
    "            \"text_embedding\": {\"type\": \"dense_vector\"}\n",
    "        }\n",
    "    },\n",
    ")\n"
   ]
  },
  {
   "cell_type": "markdown",
   "metadata": {},
   "source": [
    "# Ingest data"
   ]
  },
  {
   "cell_type": "code",
   "execution_count": 5,
   "metadata": {},
   "outputs": [
    {
     "data": {
      "text/plain": [
       "(48, [])"
      ]
     },
     "execution_count": 5,
     "metadata": {},
     "output_type": "execute_result"
    }
   ],
   "source": [
    "es.indices.delete(index=INDEX_NAME, ignore_unavailable=True)\n",
    "\n",
    "def get_documents():\n",
    "    for x in chunks:\n",
    "        yield {\n",
    "            \"_op_type\": \"index\",\n",
    "            \"_index\": INDEX_NAME,\n",
    "            \"_source\": {\"text\": x},\n",
    "            \"pipeline\": PIPELINE_ID,\n",
    "        }\n",
    "helpers.bulk(es, get_documents(), chunk_size=100) \n"
   ]
  },
  {
   "cell_type": "markdown",
   "metadata": {},
   "source": [
    "# Deploy prompts"
   ]
  },
  {
   "cell_type": "code",
   "execution_count": 13,
   "metadata": {},
   "outputs": [],
   "source": [
    "RAG_PROMPT = \"\"\"\n",
    "<|begin_of_text|><|start_header_id|>system<|end_header_id|>\n",
    "\n",
    "You are a helpful assistant.\n",
    "Ensure responses are contextually relevant and supported by provided documents. \n",
    "If no relevant information is found, respond with \"I apologize, but I could not locate any relevant information.\" <|eot_id|><|start_header_id|>user<|end_header_id|>\n",
    "\n",
    "<documents>\n",
    "{context}\n",
    "</documents>\n",
    "\n",
    "{user}<|eot_id|><|start_header_id|>assistant<|end_header_id|>\n",
    "\"\"\"\n",
    "\n",
    "CONVERSATION_PROMPT = \"\"\"\n",
    "<|begin_of_text|><|start_header_id|>system<|end_header_id|>\n",
    "\n",
    "You are a helpful assistant.\n",
    "Ensure responses are contextually relevant and supported by provided documents. \n",
    "If no relevant information is found, respond with \"I apologize, but I could not locate any relevant information.\" \n",
    "\n",
    "<documents>\n",
    "{context}\n",
    "</documents>\n",
    "<|eot_id|>{history}<|start_header_id|>assistant<|end_header_id|>\n",
    "\"\"\"\n",
    "\n",
    "QUERY_REWRITE_PROMPT = \"\"\"\n",
    "<|begin_of_text|><|start_header_id|>system<|end_header_id|>\n",
    "\n",
    "You are a helpful assistant.\n",
    "Given the conversation history and the latest question, resolve any ambiguous references in the latest question and rewrite the question.\n",
    "Respond only with the rewritten question.<|eot_id|>{history}<|start_header_id|>assistant<|end_header_id|>\n",
    "\"\"\""
   ]
  },
  {
   "cell_type": "code",
   "execution_count": 15,
   "metadata": {},
   "outputs": [
    {
     "data": {
      "text/plain": [
       "{'rag-prompt-cole': '07c0b0e4-4793-4c01-bd65-c377d1f89c96',\n",
       " 'conversation-prompt-sherwin': '8c866c8b-6058-40a0-9ea5-e7a35d056263',\n",
       " 'rag-prompt-billie': 'b2987ea9-64ba-46ab-875e-99a8160e3d20',\n",
       " 'rag-prompt-sherwin': 'ec143ddf-d420-49c3-86d5-0767480d4064',\n",
       " 'conversation-prompt-randy': 'f76d6d86-8048-4a7f-b4f5-a44516cb3333',\n",
       " 'rag-prompt-randy': 'fd0e3094-c939-41ce-abf6-29fe42da1af1'}"
      ]
     },
     "execution_count": 15,
     "metadata": {},
     "output_type": "execute_result"
    }
   ],
   "source": [
    "prompt_mapping = [\n",
    "    {\n",
    "        \"name\": \"conversation-prompt\",\n",
    "        \"prompt\": CONVERSATION_PROMPT,\n",
    "        \"variables\": [\"context\", \"history\"]\n",
    "    },\n",
    "    {\n",
    "        \"name\": \"rewrite-prompt\",\n",
    "        \"prompt\": QUERY_REWRITE_PROMPT,\n",
    "        \"variables\": [\"history\"]\n",
    "    }\n",
    "]\n",
    "\n",
    "deployments = {\n",
    "    x[\"metadata\"][\"name\"]: x[\"metadata\"][\"id\"]\n",
    "    for x in wml_client.deployments.get_details()[\"resources\"]\n",
    "}\n",
    "\n",
    "for x in prompt_mapping:\n",
    "    prompt_name, prompt, variables = x[\"name\"], x[\"prompt\"], x[\"variables\"] \n",
    "    prompts = prompt_mgr.list().query(f\"NAME == '{prompt_name}'\")\n",
    "    \n",
    "    if prompt_name in deployments:\n",
    "        deployment_id = deployments[prompt_name]\n",
    "        \n",
    "    if not prompts.empty:\n",
    "        prompt_id = prompts[\"ID\"].values[0]\n",
    "        prompt_mgr.unlock(prompt_id)\n",
    "\n",
    "    prompt_template = PromptTemplate(\n",
    "        name=prompt_name,\n",
    "        model_id=\"meta-llama/llama-3-1-70b-instruct\",\n",
    "        input_text=prompt,\n",
    "        input_variables=variables,\n",
    "        model_params={\"decoding_method\": \"greedy\", \"max_new_tokens\": 4096, \"repetition_penalty\": 1},\n",
    "    )\n",
    "\n",
    "    if prompt_name in deployments:\n",
    "        prompt_mgr.update_prompt(prompt_id, prompt_template)\n",
    "    else:\n",
    "        stored_prompt_template = prompt_mgr.store_prompt(prompt_template)\n",
    "        meta_props = {\n",
    "            wml_client.deployments.ConfigurationMetaNames.NAME: prompt_name,\n",
    "            wml_client.deployments.ConfigurationMetaNames.ONLINE: {},\n",
    "            wml_client.deployments.ConfigurationMetaNames.BASE_MODEL_ID: \"meta-llama/llama-3-1-70b-instruct\",\n",
    "        }\n",
    "        deployment_details = wml_client.deployments.create(stored_prompt_template.prompt_id, meta_props)\n",
    "        deployment_id = deployment_details[\"metadata\"][\"id\"]\n",
    "        \n",
    "{\n",
    "    x[\"metadata\"][\"name\"]: x[\"metadata\"][\"id\"]\n",
    "    for x in wml_client.deployments.get_details()[\"resources\"]\n",
    "}"
   ]
  },
  {
   "cell_type": "markdown",
   "metadata": {},
   "source": [
    "# Test RAG"
   ]
  },
  {
   "cell_type": "code",
   "execution_count": 19,
   "metadata": {},
   "outputs": [
    {
     "name": "stdout",
     "output_type": "stream",
     "text": [
      "{'_index': 'randy_v1', '_id': 'lpL9c5IB2mOl2fk3M_MW', '_score': 0.8868777, '_ignored': ['text.keyword'], 'fields': {'text': ['Having returned to Leisureland, Paul assists Ngoc Lan in her duties of providing needed aid and supplies to the people of the slums.\\n\\n\\n\\nyear: 2017\\ntitle: Wonderstruck\\ndirector: Todd Haynes\\ncast: Todd Haynes (director); Brian Selznick (screenplay); Oakes Fegley, Julianne Moore, Millicent Simmonds, Michelle Williams, Jaden Michael, Tom Noonan, James Urbaniak, Amy Hargreaves\\nplot: The film interlaces two stories set fifty years apart, switching frequently between them. Each tells the story of a child\\'s quest. In 1927, Rose (Simmonds) runs away from her father\\'s New Jersey home to find her mother/idol, the actress Lillian Mayhew (Moore). In 1977, recently orphaned Ben (Fegley) runs away from his Minnesota home in search of his father.[3]\\n\\n\\n\\nyear: 2017\\ntitle: Only the Brave\\ndirector: Joseph Kosinski\\ncast: Joseph Kosinski (director); Ken Nolan, Eric Warren Singer (screenplay); Ben Hardy, Jennifer Connelly, Taylor Kitsch, Miles Teller, James Badge Dale, Josh Brolin, Jeff Bridges\\nplot: Eric \"Supe\" Marsh, the superintendent of the Prescott Fire and Rescue Crew 7 in Prescott, Arizona, receives a call to assist in the Cave Creek Complex fire north of Phoenix. Due to Crew 7\\'s status as type 2, Eric\\'s careful observation of the fire and his prediction that it will change direction and threaten a nearby neighborhood is ignored by a hot shot crew from California that arrives and takes command. The fire behaves as Marsh anticipated and the neighborhood is destroyed. Eric\\'s wife Amanda suggests he talk to Duane Steinbrink, the city\\'s fire chief, to complete his crew\\'s certification and become hotshots. Duane agrees to set up an evaluation for Crew 7 to obtain their certification, but warns that the crew will likely have to commit to a longer working season in order to make their certification more attractive to the city council.']}}\n",
      "\n",
      "{'_index': 'randy_v1', '_id': 'e5L9c5IB2mOl2fk3M_MV', '_score': 0.88653874, '_ignored': ['text.keyword'], 'fields': {'text': ['In a post-credits scene, Wiseau has an odd verbal exchange with a party goer (played by the real Wiseau), who offers to hang out, but Wiseau refuses.\\n\\n\\n\\nyear: 2017\\ntitle: Hostiles\\ndirector: Scott Cooper\\ncast: Scott Cooper (director/screenplay); Donald E. Stewart (screenplay); Christian Bale, Rosamund Pike, Wes Studi, Q\\'orianka Kilcher, Ben Foster, Adam Beach, Rory Cochrane, Jesse Plemons, Timothée Chalamet\\nplot: In 1892, settler Wesley Quaid and his family are attacked by a Comanche war group proceeding to kill and scalp him and to shoot his three children. Only his wife Rosalee manages to escape from the attack, hiding in a small rock outcrop in the forest.\\nIn Fort Berringer, New Mexico, Captain Joseph Blocker rounds up an escaping Apache family and brings them back to the fort. He is then called to the office of Colonel Abraham Biggs, who informs him of his final orders before retirement, based on a directive from the President: escort dying Cheyenne war chief Yellow Hawk, along with his family, back to their tribal lands in Montana. Under threat of a court-martial and loss of his pension if he refuses to follow the orders, Blocker reluctantly accepts, despite his own gory history with the chief, who was responsible for the death of several of his friends and comrades. Blocker chooses the detail that will accompany him: his trusty old friend Sergeant Thomas Metz, long-time aide Corporal Woodson, and promising newcomer Lieutenant Kidder, fresh from West Point. Biggs also assigns to the detail a young French-speaking recruit, Private DeJardin.\\nThey begin their journey but Blocker orders a stop and has the two native men put in chains. The group comes across the charred Quaid house and dead settler. Inside the house they find Rosalee and her three \"sleeping\" children.']}}\n",
      "\n",
      "{'_index': 'randy_v1', '_id': 'kZL9c5IB2mOl2fk3M_MV', '_score': 0.88000274, '_ignored': ['text.keyword'], 'fields': {'text': [\"She reluctantly signs them.\\nThe kidnappers cut off one of Paul's ears and mail it to a major newspaper, claiming that they will continue mutilating him until the ransom is paid. Berated by an exasperated Chace, Getty finally relents and agrees to pay the full ransom, also voiding the parental agreement with Gail. Gail and Chace take the money to Italy and follow specific instructions from the captors, leaving the money in a remote location and receiving orders to pick up Paul from a construction site. However, a frightened Paul runs away from the site towards the nearest town, miles away. Meanwhile the captors realize that Chace has broken his word and led the police to them; angry, they decide to find and kill Paul. Chace, Gail, and the captors arrive at the town to look for Paul. One of the kidnappers finds Paul first, but Cinquanta attacks the man in order to allow Paul to escape. Chace and Gail find Paul and smuggle him out of the country to safety.\\nGetty dies of unrelated causes, and Gail is tasked with managing her children's inherited wealth until they are of age. The company was set up as a charitable trust, which meant that Getty's income was tax-free but also not spendable. He had invested much of it in paintings, sculptures and other artifacts, most of them now reside in the Getty Museum in Los Angeles.\\n\\n\\n\\nyear: 2017\\ntitle: All I See Is You\\ndirector: Marc Forster\\ncast: Marc Forster (director); Blake Lively, Jason Clarke, Yvonne Strahovski, Danny Huston, Wes Chatham\\nplot: The plot tells the story of a blind woman Gina (portrayed by Blake Lively) and her husband James (Jason Clarke). When her sight returns after a corneal implant, she begins to discover the previously unseen and disturbing details about themselves, their marriage and their lives.[4][5][6][7]\\nGina and James have a happy marriage, despite Gina's dependence on James due to her disability.\"]}}\n",
      "\n",
      "{'_index': 'randy_v1', '_id': 'j5L9c5IB2mOl2fk3M_MV', '_score': 0.8769406, '_ignored': ['text.keyword'], 'fields': {'text': [\"Smythe agrees to give Derek her key card in exchange for Melanie. Derek agrees and restrains Melanie, but undoes the bolts on the chair Melanie is fastened to, allowing her to kill Irene and escape. On the top floor, Towers offers Derek a full partnership if he gives up his revenge mission. Derek refuses and fights his boss; the company's board of directors give him permission to kill Towers, and Derek shoves him over a railing, sending him falling from the penthouse to the ground and his death just as the quarantine is lifted and the virus is eradicated.\\nDerek takes a higher position in the firm for just long enough to sign off on the extension on Melanie's loan, then quits the company and takes up painting with Melanie. He advises the audience to take control of their own lives before it's too late, accompanied by a shot of Towers' body hitting the ground with a splat.\\n\\n\\n\\nyear: 2017\\ntitle: All the Money in the World\\ndirector: Ridley Scott\\ncast: Ridley Scott (director); David Scarpa (screenplay); Michelle Williams, Mark Wahlberg, Christopher Plummer, Timothy Hutton, Charlie Plummer\\nplot: In 1973, 16-year-old John Paul Getty III (Paul), grandson of oil tycoon J. Paul Getty who was at that time the world's richest private citizen, is kidnapped in Rome by an organized crime ring. The kidnappers demand a ransom of $17 million. Flashbacks show that Paul's parents, Gail Harris and John Paul Getty Jr., were divorced in 1971 due to Getty Jr.'s drug addiction and that Gail rejected any alimony in exchange for full custody of her children in the divorce settlement; therefore she does not have the means to pay the ransom. She travels to Getty's estate to beseech him to pay the ransom but he refuses, stating that it would encourage further kidnappings on his family members. The media picks up on the story, with many believing Gail to be rich herself and blaming her for the refusal to pay the ransom.\"]}}\n",
      "\n",
      "{'_index': 'randy_v1', '_id': 'mZL9c5IB2mOl2fk3M_MW', '_score': 0.8768784, '_ignored': ['text.keyword'], 'fields': {'text': [\"The rest of the crew begin to make their way to their designated safe zone.\\nThe fire picks up speed and overtakes the safe zone before the crew can reach it. As Brendan listens on the radio, the hot shots prepare a deployment site and call in an air tanker to cover their position. The tanker overflies the crew, and they deploy their fire shelters. The fire then overtakes the hot shots. Multiple radio calls go out to the Granite Mountain crew. There is no response.\\nBrendan hears the radio call when the deployment site is discovered and it is confirmed that there are no survivors. The families of the fallen hot shots gather at a local school gymnasium, and word gets out amongst the families that one crew member survived, but they are not told who. Brendan demands to go to the gymnasium and enters to see the families in despair once they realize that Brendan is the lone survivor and their loved ones are dead. Brendan, suffering from survivor's guilt, collapses outside. Amanda follows him and tells him that she is glad he's alive.\\nLater, Brendan takes his daughter to the juniper tree that was saved by the crew earlier and remembers his fellow hot shots.\\n\\n\\n\\nyear: 2017\\ntitle: The Killing of a Sacred Deer\\ndirector: Yorgos Lanthimos\\ncast: Yorgos Lanthimos (director/screenplay); Colin Farrell, Nicole Kidman, Barry Keoghan, Raffey Cassidy, Sunny Suljic, Alicia Silverstone, Bill Camp\\nplot: Steven Murphy, a skilled cardiothoracic surgeon, finishes an open heart surgery, and later goes to a diner where he meets a teenage boy named Martin. The precise nature of their relationship is unexplained. Afterward, Steven returns home to his wife, Anna, and their children, Kim and Bob. The next day, Steven reveals his connection to Martin, claiming he is a schoolmate of Kim's, when Martin unexpectedly comes to speak with Steven at the hospital.\"]}}\n",
      "\n",
      "Scott Cooper directed the movie \"Hostiles\" (2017).\n"
     ]
    }
   ],
   "source": [
    "question = \"what movies did scott cooper directed\"\n",
    "\n",
    "results = es.search(\n",
    "    index=INDEX_NAME,\n",
    "    body={\n",
    "        \"knn\": {\n",
    "            \"field\": \"text_embedding\",\n",
    "            \"query_vector_builder\": {\n",
    "                \"text_embedding\": {\"model_id\": model_name, \"model_text\": question}\n",
    "            },\n",
    "            \"k\": 5,\n",
    "            \"num_candidates\": 50,\n",
    "        },\n",
    "        \"_source\": False,\n",
    "        \"fields\": [\"text\"],\n",
    "    },\n",
    ")\n",
    "\n",
    "for hit in results[\"hits\"][\"hits\"]:\n",
    "    print(str(hit))\n",
    "    print()\n",
    "\n",
    "context = \"<document>\\n\" + \"\\n</document>\\n\\n<document>\\n\".join([hit[\"fields\"][\"text\"][0] for hit in results[\"hits\"][\"hits\"]]) + \"\\n</document>\"\n",
    "\n",
    "generated_text = llm_model.generate_text(RAG_PROMPT.format(context=context, user=question))\n",
    "print(generated_text)"
   ]
  },
  {
   "cell_type": "code",
   "execution_count": 20,
   "metadata": {},
   "outputs": [
    {
     "name": "stdout",
     "output_type": "stream",
     "text": [
      "Scott Cooper directed the movie \"Hostiles\" (2017).\n"
     ]
    }
   ],
   "source": [
    "deployment_id = \"fd0e3094-c939-41ce-abf6-29fe42da1af1\"\n",
    "\n",
    "generated_text = wml_client.deployments.generate_text(\n",
    "    deployment_id=deployment_id,\n",
    "    params={\"prompt_variables\": {\"context\": context, \"user\": question}},\n",
    ")\n",
    "\n",
    "print(generated_text)"
   ]
  }
 ],
 "metadata": {
  "kernelspec": {
   "display_name": "ml",
   "language": "python",
   "name": "python3"
  },
  "language_info": {
   "codemirror_mode": {
    "name": "ipython",
    "version": 3
   },
   "file_extension": ".py",
   "mimetype": "text/x-python",
   "name": "python",
   "nbconvert_exporter": "python",
   "pygments_lexer": "ipython3",
   "version": "3.12.4"
  }
 },
 "nbformat": 4,
 "nbformat_minor": 2
}
