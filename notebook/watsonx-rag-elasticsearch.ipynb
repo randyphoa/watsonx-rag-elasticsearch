{
 "cells": [
  {
   "cell_type": "code",
   "execution_count": 1,
   "metadata": {},
   "outputs": [
    {
     "data": {
      "text/plain": [
       "True"
      ]
     },
     "execution_count": 1,
     "metadata": {},
     "output_type": "execute_result"
    }
   ],
   "source": [
    "import os\n",
    "from dotenv import load_dotenv\n",
    "from ibm_watsonx_ai import APIClient\n",
    "from elasticsearch import Elasticsearch, helpers\n",
    "from ibm_watsonx_ai.foundation_models import ModelInference\n",
    "from ibm_watsonx_ai.metanames import GenTextParamsMetaNames as GenParams\n",
    "from llama_index.core.node_parser import SentenceSplitter\n",
    "from ibm_watsonx_ai.foundation_models.prompts import (\n",
    "    PromptTemplate,\n",
    "    PromptTemplateManager,\n",
    ")\n",
    "\n",
    "load_dotenv()"
   ]
  },
  {
   "cell_type": "markdown",
   "metadata": {},
   "source": [
    "# Edit variables as required"
   ]
  },
  {
   "cell_type": "code",
   "execution_count": 2,
   "metadata": {},
   "outputs": [
    {
     "data": {
      "text/plain": [
       "ObjectApiResponse({'name': 'm-0.4b859107-b5eb-4bbd-b4d0-dd00c19ee811.90450e0f666043d6b33a1147ab8c0438.c7e0lq3d0hm8lbg600bg.databases.appdomain.cloud', 'cluster_name': '4b859107-b5eb-4bbd-b4d0-dd00c19ee811', 'cluster_uuid': 'RM8L6RPVRz6RgiIrO3CAoQ', 'version': {'number': '8.12.1', 'build_flavor': 'default', 'build_type': 'tar', 'build_hash': '6185ba65d27469afabc9bc951cded6c17c21e3f3', 'build_date': '2024-02-01T13:07:13.727175297Z', 'build_snapshot': False, 'lucene_version': '9.9.2', 'minimum_wire_compatibility_version': '7.17.0', 'minimum_index_compatibility_version': '7.0.0'}, 'tagline': 'You Know, for Search'})"
      ]
     },
     "execution_count": 2,
     "metadata": {},
     "output_type": "execute_result"
    }
   ],
   "source": [
    "INDEX_NAME = \"randy_v1\"\n",
    "SPACE_ID = \"f9496bd6-164d-412e-a32e-d362f5801c91\"\n",
    "WML_CREDENTIALS = {\"apikey\": os.getenv(\"IBM_API_KEY\"), \"url\": \"https://us-south.ml.cloud.ibm.com\"}\n",
    "ES_CREDENTIALS = (os.getenv(\"ES_USERNAME\"), os.getenv(\"ES_PASSWORD\"))\n",
    "\n",
    "pipeline_id = \"ingest-pipeline-randy\"\n",
    "model_name = \"intfloat__multilingual-e5-base\"\n",
    "\n",
    "es_url = \"https://4b859107-b5eb-4bbd-b4d0-dd00c19ee811.c7e0lq3d0hm8lbg600bg.databases.appdomain.cloud:31598\"\n",
    "es = Elasticsearch(hosts=es_url, basic_auth=ES_CREDENTIALS, verify_certs=False, ssl_show_warn=False, request_timeout=600)\n",
    "\n",
    "llm_model = ModelInference(\n",
    "    model_id=\"meta-llama/llama-3-1-70b-instruct\",\n",
    "    credentials=WML_CREDENTIALS,\n",
    "    params={ GenParams.DECODING_METHOD: \"greedy\", GenParams.MAX_NEW_TOKENS: 4096 }, space_id=SPACE_ID\n",
    ")\n",
    "\n",
    "splitter = SentenceSplitter(chunk_size=450, chunk_overlap=50)\n",
    "\n",
    "prompt_mgr = PromptTemplateManager(credentials=WML_CREDENTIALS, space_id=SPACE_ID)\n",
    "\n",
    "wml_client = APIClient(credentials=WML_CREDENTIALS)\n",
    "wml_client.set.default_space(SPACE_ID)\n",
    "\n",
    "es.info()"
   ]
  },
  {
   "cell_type": "markdown",
   "metadata": {},
   "source": [
    "# Read and chunk data"
   ]
  },
  {
   "cell_type": "code",
   "execution_count": 61,
   "metadata": {},
   "outputs": [
    {
     "data": {
      "text/plain": [
       "48"
      ]
     },
     "execution_count": 61,
     "metadata": {},
     "output_type": "execute_result"
    }
   ],
   "source": [
    "with open(\"../data/txt/wiki_movie_plots.txt\") as f:\n",
    "    data = f.read()\n",
    "    \n",
    "chunks = splitter.split_text(data)\n",
    "len(chunks)"
   ]
  },
  {
   "cell_type": "markdown",
   "metadata": {},
   "source": [
    "# Create Elasticsearch pipeline"
   ]
  },
  {
   "cell_type": "code",
   "execution_count": 62,
   "metadata": {},
   "outputs": [
    {
     "data": {
      "text/plain": [
       "ObjectApiResponse({'acknowledged': True, 'shards_acknowledged': True, 'index': 'randy_v1'})"
      ]
     },
     "execution_count": 62,
     "metadata": {},
     "output_type": "execute_result"
    }
   ],
   "source": [
    "es.indices.delete(index=INDEX_NAME, ignore_unavailable=True)\n",
    "\n",
    "pipeline_body = {\n",
    "    \"processors\": [\n",
    "        {\n",
    "            \"inference\": {\n",
    "                \"model_id\": model_name,\n",
    "                \"input_output\": { \"input_field\": \"text\", \"output_field\": \"text_embedding\" },\n",
    "            }\n",
    "        }\n",
    "    ],\n",
    "}\n",
    "\n",
    "# es.ingest.delete_pipeline(id=pipeline_id)\n",
    "\n",
    "es.ingest.put_pipeline(id=pipeline_id, body=pipeline_body)\n",
    "\n",
    "es.indices.create(\n",
    "    index=INDEX_NAME,\n",
    "    settings={\"index\": {\"default_pipeline\": pipeline_id}},\n",
    "    mappings={\n",
    "        \"properties\": {\n",
    "            \"text\": {\"type\": \"text\"},\n",
    "            \"text_embedding\": {\"type\": \"dense_vector\"}\n",
    "        }\n",
    "    },\n",
    ")\n"
   ]
  },
  {
   "cell_type": "markdown",
   "metadata": {},
   "source": [
    "# Ingest data"
   ]
  },
  {
   "cell_type": "code",
   "execution_count": 63,
   "metadata": {},
   "outputs": [
    {
     "data": {
      "text/plain": [
       "(48, [])"
      ]
     },
     "execution_count": 63,
     "metadata": {},
     "output_type": "execute_result"
    }
   ],
   "source": [
    "es.indices.delete(index=INDEX_NAME, ignore_unavailable=True)\n",
    "\n",
    "def get_documents():\n",
    "    for x in chunks:\n",
    "        yield {\n",
    "            \"_op_type\": \"index\",\n",
    "            \"_index\": INDEX_NAME,\n",
    "            \"_source\": {\"text\": x},\n",
    "            \"pipeline\": pipeline_id,\n",
    "        }\n",
    "helpers.bulk(es, get_documents(), chunk_size=100) \n"
   ]
  },
  {
   "cell_type": "markdown",
   "metadata": {},
   "source": [
    "# Deploy prompts"
   ]
  },
  {
   "cell_type": "code",
   "execution_count": 6,
   "metadata": {},
   "outputs": [],
   "source": [
    "RAG_PROMPT = \"\"\"\n",
    "<|begin_of_text|><|start_header_id|>system<|end_header_id|>\n",
    "\n",
    "You are a helpful assistant.\n",
    "Ensure responses are contextually relevant and supported by provided documents. \n",
    "If no relevant information is found, respond with \"I apologize, but I could not locate any relevant information.\" <|eot_id|><|start_header_id|>user<|end_header_id|>\n",
    "\n",
    "<documents>\n",
    "{context}\n",
    "</documents>\n",
    "\n",
    "{user}<|eot_id|><|start_header_id|>assistant<|end_header_id|>\n",
    "\"\"\"\n",
    "\n",
    "CONVERSATION_PROMPT = \"\"\"\n",
    "<|begin_of_text|><|start_header_id|>system<|end_header_id|>\n",
    "\n",
    "You are a helpful assistant.\n",
    "Ensure responses are contextually relevant and supported by provided documents. \n",
    "If no relevant information is found, respond with \"I apologize, but I could not locate any relevant information.\" \n",
    "\n",
    "<documents>\n",
    "{context}\n",
    "</documents>\n",
    "<|eot_id|>{history}<|start_header_id|>assistant<|end_header_id|>\n",
    "\"\"\""
   ]
  },
  {
   "cell_type": "code",
   "execution_count": 8,
   "metadata": {},
   "outputs": [
    {
     "data": {
      "text/plain": [
       "{'chat': '169518ed-3b41-4542-aba6-fb8625a3bc46',\n",
       " 'Retrival Function': '1a504e05-0697-4cd5-85db-7a578422fa99',\n",
       " 'conversation-prompt-randy': '1c7d6100-2e88-4849-8717-23fdc5f941ba',\n",
       " 'RAG Prompt': '24e2b6f0-e1e4-415d-801a-e4cf03b2b92a',\n",
       " 'Chat Prompt': '616c3671-485e-4f73-bbaf-8f4702711aa5',\n",
       " 'rag-prompt-randy': 'b82684e1-5c07-493a-8beb-b6dbf188469f',\n",
       " 'Demo Deployment': 'd457172b-f1fe-43e4-8943-88eb837e899e'}"
      ]
     },
     "execution_count": 8,
     "metadata": {},
     "output_type": "execute_result"
    }
   ],
   "source": [
    "prompt_mapping = [\n",
    "    {\n",
    "        \"name\": \"rag-prompt-randy\",\n",
    "        \"prompt\": RAG_PROMPT,\n",
    "        \"variables\": [\"context\", \"user\"]\n",
    "    },\n",
    "    {\n",
    "        \"name\": \"conversation-prompt-randy\",\n",
    "        \"prompt\": CONVERSATION_PROMPT,\n",
    "        \"variables\": [\"context\", \"history\"]\n",
    "    }\n",
    "]\n",
    "\n",
    "deployments = {\n",
    "    x[\"metadata\"][\"name\"]: x[\"metadata\"][\"id\"]\n",
    "    for x in wml_client.deployments.get_details()[\"resources\"]\n",
    "}\n",
    "\n",
    "for x in prompt_mapping:\n",
    "    prompt_name, prompt, variables = x[\"name\"], x[\"prompt\"], x[\"variables\"] \n",
    "    prompts = prompt_mgr.list().query(f\"NAME == '{prompt_name}'\")\n",
    "    \n",
    "    if prompt_name in deployments:\n",
    "        deployment_id = deployments[prompt_name]\n",
    "        \n",
    "    if not prompts.empty:\n",
    "        prompt_id = prompts[\"ID\"].values[0]\n",
    "        prompt_mgr.unlock(prompt_id)\n",
    "\n",
    "    prompt_template = PromptTemplate(\n",
    "        name=prompt_name,\n",
    "        model_id=\"meta-llama/llama-3-1-70b-instruct\",\n",
    "        input_text=prompt,\n",
    "        input_variables=variables,\n",
    "        model_params={\"decoding_method\": \"greedy\", \"max_new_tokens\": 4096, \"repetition_penalty\": 1},\n",
    "    )\n",
    "\n",
    "    if prompt_name in deployments:\n",
    "        prompt_mgr.update_prompt(prompt_id, prompt_template)\n",
    "    else:\n",
    "        stored_prompt_template = prompt_mgr.store_prompt(prompt_template)\n",
    "        meta_props = {\n",
    "            wml_client.deployments.ConfigurationMetaNames.NAME: prompt_name,\n",
    "            wml_client.deployments.ConfigurationMetaNames.ONLINE: {},\n",
    "            wml_client.deployments.ConfigurationMetaNames.BASE_MODEL_ID: \"meta-llama/llama-3-1-70b-instruct\",\n",
    "        }\n",
    "        deployment_details = wml_client.deployments.create(stored_prompt_template.prompt_id, meta_props)\n",
    "        deployment_id = deployment_details[\"metadata\"][\"id\"]\n",
    "        \n",
    "{\n",
    "    x[\"metadata\"][\"name\"]: x[\"metadata\"][\"id\"]\n",
    "    for x in wml_client.deployments.get_details()[\"resources\"]\n",
    "}"
   ]
  },
  {
   "cell_type": "markdown",
   "metadata": {},
   "source": [
    "# Test RAG"
   ]
  },
  {
   "cell_type": "code",
   "execution_count": 7,
   "metadata": {},
   "outputs": [
    {
     "name": "stdout",
     "output_type": "stream",
     "text": [
      "{'_index': 'randy_v1', '_id': 'AoNkc5IB7hGZ96Ht6cDC', '_score': 0.90877527, 'fields': {'text': ['As Brad\\'s mom\\'s flight arrives, Dusty and Brad discover that Brad\\'s new stepdad is Chesley \"Sully\" Sullenberger, the pilot of the \"Miracle on the Hudson\" flight. Brad and Dusty remember that they watched the film \"Sully\" together not too long ago and Brad appears to be welcoming towards him. Brad runs down the terminal and says that Sully will never replace his father, because Sully has only one great personal story, whereas his father has thousands of stories.\\n\\n\\n\\nyear: 2017\\ntitle: Geostorm\\ndirector: Dean Devlin\\ncast: Dean Devlin (director/screenplay); Paul Guyot (screenplay); Gerard Butler, Abbie Cornish, Alexandra Lara, Jim Sturgess, Amr Waked, Ed Harris, Andy García\\nplot: In 2019, following many catastrophic natural disasters, an international coalition commissions a system of climate-controlling satellites called \"Dutch Boy\". After Dutch Boy neutralizes a typhoon in Shanghai, a Senate sub-committee reprimands chief architect Jake Lawson for acting without authorization and replaces him with his brother Max, who works under Secretary of State Leonard Dekkom.\\nThree years later in 2022, as a UN team stationed in the Registan Desert comes across a frozen village, Makmoud Habib, an engineer working on the International Climate Space Station (ICSS) copies data from the Afghanistan satellite onto a hard drive before being ejected into space. After convincing President Andrew Palma to conduct an investigation, Max persuades Jake to go to the ICSS to investigate. Another satellite increases temperatures in Hong Kong, causing a firenado that nearly kills Max\\'s college friend Cheng Long, the head of Dutch Boy\\'s Hong Kong department.\\nJake arrives at ICSS to examine the malfunctioning satellites (which are damaged afterwards and their data erased) with station commander Ute Fassbinder and her crew. Outside the ICSS, they retrieve the hard drive, but hide it from the crew, suspecting a traitor, and recover the data, discovering that a virus has wiped out everyone\\'s login access to the satellite and is causing the malfunctions.']}}\n",
      "\n",
      "{'_index': 'randy_v1', '_id': 'DINkc5IB7hGZ96Ht6cDC', '_score': 0.895522, 'fields': {'text': ['Oliver tells Elio he \"remembers everything\" very clearly. After the call, Elio sits by the fireplace, distraught, as his parents and the house staff prepare a holiday dinner.\\n\\n\\n\\nyear: 2017\\ntitle: Suburbicon\\ndirector: George Clooney\\ncast: George Clooney (director/screenplay); Joel Coen, Ethan Coen, Grant Heslov (screenplay); Matt Damon, Julianne Moore, Oscar Isaac\\nplot: In 1959, the peaceful, all-white neighborhood of Suburbicon is shaken up by the arrival of an African-American family, the Mayers.\\nGardner Lodge, a mild-mannered man, is the father of a family in Suburbicon. One night, the home of the Lodge family is broken into by two robbers. The robbers tie the entire family up and kill the matriarch, Rose, with an overdose of chloroform. Her twin sister, Margaret, moves in to help take care of Nicky, the child of the family. Soon after her arrival, she begins to transform herself into Rose, dyeing her hair and having sex with Gardner.\\nAs tensions mount between the residents of Suburbicon and their new African-American neighbors, charismatic insurance agent Bud Cooper arrives one day when Gardner is not home and begins asking Margaret questions, looking to clear up red flags in a life insurance claim made on Rose by Gardner shortly after her death. The conversation starts out innocuously enough, but Cooper grows suspicious when Margaret refers to herself and Gardner as a couple, after which Margaret kicks him out of the house.\\nMeanwhile, the two robbers who killed Rose are angry at Gardner after Nicky sneaks into the viewing room for a police lineup, where Gardner and Margaret denied that the two robbers were the ones who broke into their home. They are also mad that Gardner has not paid them a sum of money they were promised for killing Rose, and grow impatient when they are unable to reach him by phone. They make a plan to return to Gardner\\'s house and kill Nicky and Margaret.']}}\n",
      "\n",
      "{'_index': 'randy_v1', '_id': 'F4Nkc5IB7hGZ96Ht6cDD', '_score': 0.89439857, 'fields': {'text': ['Having returned to Leisureland, Paul assists Ngoc Lan in her duties of providing needed aid and supplies to the people of the slums.\\n\\n\\n\\nyear: 2017\\ntitle: Wonderstruck\\ndirector: Todd Haynes\\ncast: Todd Haynes (director); Brian Selznick (screenplay); Oakes Fegley, Julianne Moore, Millicent Simmonds, Michelle Williams, Jaden Michael, Tom Noonan, James Urbaniak, Amy Hargreaves\\nplot: The film interlaces two stories set fifty years apart, switching frequently between them. Each tells the story of a child\\'s quest. In 1927, Rose (Simmonds) runs away from her father\\'s New Jersey home to find her mother/idol, the actress Lillian Mayhew (Moore). In 1977, recently orphaned Ben (Fegley) runs away from his Minnesota home in search of his father.[3]\\n\\n\\n\\nyear: 2017\\ntitle: Only the Brave\\ndirector: Joseph Kosinski\\ncast: Joseph Kosinski (director); Ken Nolan, Eric Warren Singer (screenplay); Ben Hardy, Jennifer Connelly, Taylor Kitsch, Miles Teller, James Badge Dale, Josh Brolin, Jeff Bridges\\nplot: Eric \"Supe\" Marsh, the superintendent of the Prescott Fire and Rescue Crew 7 in Prescott, Arizona, receives a call to assist in the Cave Creek Complex fire north of Phoenix. Due to Crew 7\\'s status as type 2, Eric\\'s careful observation of the fire and his prediction that it will change direction and threaten a nearby neighborhood is ignored by a hot shot crew from California that arrives and takes command. The fire behaves as Marsh anticipated and the neighborhood is destroyed. Eric\\'s wife Amanda suggests he talk to Duane Steinbrink, the city\\'s fire chief, to complete his crew\\'s certification and become hotshots. Duane agrees to set up an evaluation for Crew 7 to obtain their certification, but warns that the crew will likely have to commit to a longer working season in order to make their certification more attractive to the city council.']}}\n",
      "\n",
      "{'_index': 'randy_v1', '_id': 'EoNkc5IB7hGZ96Ht6cDC', '_score': 0.88858503, 'fields': {'text': [\"She reluctantly signs them.\\nThe kidnappers cut off one of Paul's ears and mail it to a major newspaper, claiming that they will continue mutilating him until the ransom is paid. Berated by an exasperated Chace, Getty finally relents and agrees to pay the full ransom, also voiding the parental agreement with Gail. Gail and Chace take the money to Italy and follow specific instructions from the captors, leaving the money in a remote location and receiving orders to pick up Paul from a construction site. However, a frightened Paul runs away from the site towards the nearest town, miles away. Meanwhile the captors realize that Chace has broken his word and led the police to them; angry, they decide to find and kill Paul. Chace, Gail, and the captors arrive at the town to look for Paul. One of the kidnappers finds Paul first, but Cinquanta attacks the man in order to allow Paul to escape. Chace and Gail find Paul and smuggle him out of the country to safety.\\nGetty dies of unrelated causes, and Gail is tasked with managing her children's inherited wealth until they are of age. The company was set up as a charitable trust, which meant that Getty's income was tax-free but also not spendable. He had invested much of it in paintings, sculptures and other artifacts, most of them now reside in the Getty Museum in Los Angeles.\\n\\n\\n\\nyear: 2017\\ntitle: All I See Is You\\ndirector: Marc Forster\\ncast: Marc Forster (director); Blake Lively, Jason Clarke, Yvonne Strahovski, Danny Huston, Wes Chatham\\nplot: The plot tells the story of a blind woman Gina (portrayed by Blake Lively) and her husband James (Jason Clarke). When her sight returns after a corneal implant, she begins to discover the previously unseen and disturbing details about themselves, their marriage and their lives.[4][5][6][7]\\nGina and James have a happy marriage, despite Gina's dependence on James due to her disability.\"]}}\n",
      "\n",
      "{'_index': 'randy_v1', '_id': '-YNkc5IB7hGZ96Ht6b_C', '_score': 0.8877641, 'fields': {'text': [\"Deciding to help Thor, she takes Loki captive to prove her goodwill. Unwilling to be left behind, Loki provides the group with the means to steal one of the Grandmaster's ships. They then liberate the other gladiators who, led by Korg and Miek, stage a revolution. Loki attempts to again betray his brother to gain a reward from the Grandmaster, but Thor anticipates this and leaves him behind, where Korg and the gladiators soon find him. Thor, Banner, and 142 escape through a wormhole to Asgard, where Hela's forces are attacking Heimdall and Asgard's citizens for the sword that controls the Bifröst. Banner becomes Hulk again, defeating Fenris, while Thor and 142 battle Skurge and the resurrected warriors. Loki and the gladiators arrive to help, and the citizens board their ship; a repentant Skurge sacrifices himself to allow their escape. Thor, facing Hela, loses his right eye and then has a vision of Odin that helps him realize only Ragnarök can stop her. While Hela is distracted, Loki locates Surtur's crown and places it in the Eternal Flame. Surtur is reborn and destroys Asgard, seemingly killing Hela.\\nThor and the others escape with Asgard's remaining citizens aboard the Grandmaster's vessel. Thor, crowned king, decides to take his people to Earth. In a mid-credits scene, they are intercepted by a large spacecraft.[N 2] In a post-credits scene, the Grandmaster encounters a group of his former subjects, who are still rebelling.\\n\\n\\n\\nyear: 2017\\ntitle: The Disaster Artist\\ndirector: James Franco\\ncast: James Franco (director); Scott Neustadter, Michael H. Weber (screenplay); James Franco, Dave Franco, Seth Rogen, Alison Brie, Ari Graynor, Josh Hutcherson, Jacki Weaver\\nplot: San Francisco, 1998: 19-year-old Greg Sestero meets Tommy Wiseau in acting classes with Jean Shelton.\"]}}\n",
      "\n",
      "The movie Geostorm is about a system of climate-controlling satellites called \"Dutch Boy\" that malfunctions, causing catastrophic natural disasters around the world. The story follows the chief architect of the system, Jake Lawson, and his brother Max, as they try to investigate and stop the malfunctions before it's too late.\n"
     ]
    }
   ],
   "source": [
    "question = \"what is the movie geostorm about?\"\n",
    "\n",
    "results = es.search(\n",
    "    index=INDEX_NAME,\n",
    "    body={\n",
    "        \"knn\": {\n",
    "            \"field\": \"text_embedding\",\n",
    "            \"query_vector_builder\": {\n",
    "                \"text_embedding\": {\"model_id\": model_name, \"model_text\": question}\n",
    "            },\n",
    "            \"k\": 5,\n",
    "            \"num_candidates\": 50,\n",
    "        },\n",
    "        \"_source\": False,\n",
    "        \"fields\": [\"text\"],\n",
    "    },\n",
    ")\n",
    "\n",
    "for hit in results[\"hits\"][\"hits\"]:\n",
    "    print(str(hit))\n",
    "    print()\n",
    "\n",
    "context = \"<document>\\n\" + \"\\n</document>\\n\\n<document>\\n\".join([hit[\"fields\"][\"text\"][0] for hit in results[\"hits\"][\"hits\"]]) + \"\\n</document>\"\n",
    "\n",
    "generated_text = llm_model.generate_text(RAG_PROMPT.format(context=context, user=question))\n",
    "print(generated_text)"
   ]
  },
  {
   "cell_type": "code",
   "execution_count": 107,
   "metadata": {},
   "outputs": [
    {
     "name": "stdout",
     "output_type": "stream",
     "text": [
      "Dwayne Johnson, Kevin Hart, Jack Black, Nick Jonas, and Karen Gillan acted in Jumanji: Welcome to the Jungle.<|eot_id|>\n"
     ]
    }
   ],
   "source": [
    "deployment_id = \"b82684e1-5c07-493a-8beb-b6dbf188469f\"\n",
    "\n",
    "generated_text = wml_client.deployments.generate_text(\n",
    "    deployment_id=deployment_id,\n",
    "    params={\"prompt_variables\": {\"context\": context, \"user\": question}},\n",
    ")\n",
    "\n",
    "print(generated_text)"
   ]
  }
 ],
 "metadata": {
  "kernelspec": {
   "display_name": "ml",
   "language": "python",
   "name": "python3"
  },
  "language_info": {
   "codemirror_mode": {
    "name": "ipython",
    "version": 3
   },
   "file_extension": ".py",
   "mimetype": "text/x-python",
   "name": "python",
   "nbconvert_exporter": "python",
   "pygments_lexer": "ipython3",
   "version": "3.12.4"
  }
 },
 "nbformat": 4,
 "nbformat_minor": 2
}
